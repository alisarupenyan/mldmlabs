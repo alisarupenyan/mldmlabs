{
 "cells": [
  {
   "cell_type": "markdown",
   "id": "0ec81e2d-db8a-497d-a85b-7f9ad0094899",
   "metadata": {
    "id": "0ec81e2d-db8a-497d-a85b-7f9ad0094899"
   },
   "source": [
    "# Support Vector Machines Part 1"
   ]
  },
  {
   "cell_type": "code",
   "execution_count": 1,
   "id": "0d7ff475-7289-44da-b100-a8bdf43b7d2e",
   "metadata": {
    "id": "0d7ff475-7289-44da-b100-a8bdf43b7d2e",
    "tags": []
   },
   "outputs": [
    {
     "name": "stderr",
     "output_type": "stream",
     "text": [
      "/Users/alisarupenyan/anaconda3/lib/python3.10/site-packages/pandas/core/arrays/masked.py:60: UserWarning: Pandas requires version '1.3.6' or newer of 'bottleneck' (version '1.3.5' currently installed).\n",
      "  from pandas.core import (\n"
     ]
    }
   ],
   "source": [
    "%matplotlib inline\n",
    "import numpy as np\n",
    "import pandas as pd\n",
    "import matplotlib as mpl\n",
    "import matplotlib.pyplot as plt\n",
    "\n",
    "from sklearn import datasets\n",
    "from sklearn import svm\n",
    "from sklearn import preprocessing"
   ]
  },
  {
   "cell_type": "code",
   "execution_count": 2,
   "id": "8b0e851c-a81d-4814-a060-b9bd26da7f34",
   "metadata": {
    "id": "8b0e851c-a81d-4814-a060-b9bd26da7f34",
    "tags": []
   },
   "outputs": [],
   "source": [
    "%config InlineBackend.figure_formats = ['svg']\n",
    "\n",
    "plt.rc('font', size=14)\n",
    "plt.rc('axes', labelsize=14, titlesize=14)\n",
    "plt.rc('legend', fontsize=14)\n",
    "plt.rc('xtick', labelsize=10)\n",
    "plt.rc('ytick', labelsize=10)\n",
    "\n",
    "cmap= mpl.colors.ListedColormap(['red', 'black', 'blue'])"
   ]
  },
  {
   "cell_type": "markdown",
   "id": "920fe1cd-fd75-4b56-a47c-4317b990551a",
   "metadata": {
    "id": "920fe1cd-fd75-4b56-a47c-4317b990551a"
   },
   "source": [
    "## Task 1 Decision Boundary from a Maximal Margin Classifier (6 points)\n",
    "Let's create some synthetic data with two classes:"
   ]
  },
  {
   "cell_type": "code",
   "execution_count": 3,
   "id": "e76c7349-896a-4c70-9257-e08435f0c263",
   "metadata": {
    "id": "e76c7349-896a-4c70-9257-e08435f0c263",
    "tags": []
   },
   "outputs": [
    {
     "data": {
      "image/svg+xml": [
       "<?xml version=\"1.0\" encoding=\"utf-8\" standalone=\"no\"?>\n",
       "<!DOCTYPE svg PUBLIC \"-//W3C//DTD SVG 1.1//EN\"\n",
       "  \"http://www.w3.org/Graphics/SVG/1.1/DTD/svg11.dtd\">\n",
       "<svg xmlns:xlink=\"http://www.w3.org/1999/xlink\" width=\"326.2475pt\" height=\"327.763125pt\" viewBox=\"0 0 326.2475 327.763125\" xmlns=\"http://www.w3.org/2000/svg\" version=\"1.1\">\n",
       " <metadata>\n",
       "  <rdf:RDF xmlns:dc=\"http://purl.org/dc/elements/1.1/\" xmlns:cc=\"http://creativecommons.org/ns#\" xmlns:rdf=\"http://www.w3.org/1999/02/22-rdf-syntax-ns#\">\n",
       "   <cc:Work>\n",
       "    <dc:type rdf:resource=\"http://purl.org/dc/dcmitype/StillImage\"/>\n",
       "    <dc:date>2024-03-20T13:31:05.827745</dc:date>\n",
       "    <dc:format>image/svg+xml</dc:format>\n",
       "    <dc:creator>\n",
       "     <cc:Agent>\n",
       "      <dc:title>Matplotlib v3.8.3, https://matplotlib.org/</dc:title>\n",
       "     </cc:Agent>\n",
       "    </dc:creator>\n",
       "   </cc:Work>\n",
       "  </rdf:RDF>\n",
       " </metadata>\n",
       " <defs>\n",
       "  <style type=\"text/css\">*{stroke-linejoin: round; stroke-linecap: butt}</style>\n",
       " </defs>\n",
       " <g id=\"figure_1\">\n",
       "  <g id=\"patch_1\">\n",
       "   <path d=\"M 0 327.763125 \n",
       "L 326.2475 327.763125 \n",
       "L 326.2475 0 \n",
       "L 0 0 \n",
       "z\n",
       "\" style=\"fill: #ffffff\"/>\n",
       "  </g>\n",
       "  <g id=\"axes_1\">\n",
       "   <g id=\"patch_2\">\n",
       "    <path d=\"M 40.0475 284.4 \n",
       "L 319.0475 284.4 \n",
       "L 319.0475 7.2 \n",
       "L 40.0475 7.2 \n",
       "z\n",
       "\" style=\"fill: #ffffff\"/>\n",
       "   </g>\n",
       "   <g id=\"PathCollection_1\">\n",
       "    <defs>\n",
       "     <path id=\"C0_0_5d393aaaf0\" d=\"M 0 3.535534 \n",
       "C 0.937635 3.535534 1.836992 3.163008 2.5 2.5 \n",
       "C 3.163008 1.836992 3.535534 0.937635 3.535534 -0 \n",
       "C 3.535534 -0.937635 3.163008 -1.836992 2.5 -2.5 \n",
       "C 1.836992 -3.163008 0.937635 -3.535534 0 -3.535534 \n",
       "C -0.937635 -3.535534 -1.836992 -3.163008 -2.5 -2.5 \n",
       "C -3.163008 -1.836992 -3.535534 -0.937635 -3.535534 0 \n",
       "C -3.535534 0.937635 -3.163008 1.836992 -2.5 2.5 \n",
       "C -1.836992 3.163008 -0.937635 3.535534 0 3.535534 \n",
       "z\n",
       "\"/>\n",
       "    </defs>\n",
       "    <g clip-path=\"url(#p193289c66b)\">\n",
       "     <use xlink:href=\"#C0_0_5d393aaaf0\" x=\"186.1923\" y=\"196.8855\" style=\"fill: #0000ff; stroke: #0000ff\"/>\n",
       "    </g>\n",
       "    <g clip-path=\"url(#p193289c66b)\">\n",
       "     <use xlink:href=\"#C0_0_5d393aaaf0\" x=\"213.351221\" y=\"192.359667\" style=\"fill: #0000ff; stroke: #0000ff\"/>\n",
       "    </g>\n",
       "    <g clip-path=\"url(#p193289c66b)\">\n",
       "     <use xlink:href=\"#C0_0_5d393aaaf0\" x=\"187.553602\" y=\"69.076962\" style=\"fill: #ff0000; stroke: #ff0000\"/>\n",
       "    </g>\n",
       "    <g clip-path=\"url(#p193289c66b)\">\n",
       "     <use xlink:href=\"#C0_0_5d393aaaf0\" x=\"217.375857\" y=\"77.882029\" style=\"fill: #ff0000; stroke: #ff0000\"/>\n",
       "    </g>\n",
       "    <g clip-path=\"url(#p193289c66b)\">\n",
       "     <use xlink:href=\"#C0_0_5d393aaaf0\" x=\"232.459746\" y=\"217.144247\" style=\"fill: #0000ff; stroke: #0000ff\"/>\n",
       "    </g>\n",
       "    <g clip-path=\"url(#p193289c66b)\">\n",
       "     <use xlink:href=\"#C0_0_5d393aaaf0\" x=\"276.107767\" y=\"258.559886\" style=\"fill: #0000ff; stroke: #0000ff\"/>\n",
       "    </g>\n",
       "    <g clip-path=\"url(#p193289c66b)\">\n",
       "     <use xlink:href=\"#C0_0_5d393aaaf0\" x=\"306.365682\" y=\"261.602369\" style=\"fill: #0000ff; stroke: #0000ff\"/>\n",
       "    </g>\n",
       "    <g clip-path=\"url(#p193289c66b)\">\n",
       "     <use xlink:href=\"#C0_0_5d393aaaf0\" x=\"230.180803\" y=\"177.180679\" style=\"fill: #0000ff; stroke: #0000ff\"/>\n",
       "    </g>\n",
       "    <g clip-path=\"url(#p193289c66b)\">\n",
       "     <use xlink:href=\"#C0_0_5d393aaaf0\" x=\"228.607097\" y=\"213.75351\" style=\"fill: #0000ff; stroke: #0000ff\"/>\n",
       "    </g>\n",
       "    <g clip-path=\"url(#p193289c66b)\">\n",
       "     <use xlink:href=\"#C0_0_5d393aaaf0\" x=\"87.176336\" y=\"19.8\" style=\"fill: #ff0000; stroke: #ff0000\"/>\n",
       "    </g>\n",
       "    <g clip-path=\"url(#p193289c66b)\">\n",
       "     <use xlink:href=\"#C0_0_5d393aaaf0\" x=\"206.644177\" y=\"39.962184\" style=\"fill: #ff0000; stroke: #ff0000\"/>\n",
       "    </g>\n",
       "    <g clip-path=\"url(#p193289c66b)\">\n",
       "     <use xlink:href=\"#C0_0_5d393aaaf0\" x=\"105.625012\" y=\"51.408939\" style=\"fill: #ff0000; stroke: #ff0000\"/>\n",
       "    </g>\n",
       "    <g clip-path=\"url(#p193289c66b)\">\n",
       "     <use xlink:href=\"#C0_0_5d393aaaf0\" x=\"162.896085\" y=\"62.167049\" style=\"fill: #ff0000; stroke: #ff0000\"/>\n",
       "    </g>\n",
       "    <g clip-path=\"url(#p193289c66b)\">\n",
       "     <use xlink:href=\"#C0_0_5d393aaaf0\" x=\"194.32707\" y=\"240.88753\" style=\"fill: #0000ff; stroke: #0000ff\"/>\n",
       "    </g>\n",
       "    <g clip-path=\"url(#p193289c66b)\">\n",
       "     <use xlink:href=\"#C0_0_5d393aaaf0\" x=\"191.760152\" y=\"92.349284\" style=\"fill: #ff0000; stroke: #ff0000\"/>\n",
       "    </g>\n",
       "    <g clip-path=\"url(#p193289c66b)\">\n",
       "     <use xlink:href=\"#C0_0_5d393aaaf0\" x=\"169.328878\" y=\"95.364759\" style=\"fill: #ff0000; stroke: #ff0000\"/>\n",
       "    </g>\n",
       "    <g clip-path=\"url(#p193289c66b)\">\n",
       "     <use xlink:href=\"#C0_0_5d393aaaf0\" x=\"140.834791\" y=\"80.499155\" style=\"fill: #ff0000; stroke: #ff0000\"/>\n",
       "    </g>\n",
       "    <g clip-path=\"url(#p193289c66b)\">\n",
       "     <use xlink:href=\"#C0_0_5d393aaaf0\" x=\"246.122061\" y=\"243.742162\" style=\"fill: #0000ff; stroke: #0000ff\"/>\n",
       "    </g>\n",
       "    <g clip-path=\"url(#p193289c66b)\">\n",
       "     <use xlink:href=\"#C0_0_5d393aaaf0\" x=\"120.474665\" y=\"125.718692\" style=\"fill: #ff0000; stroke: #ff0000\"/>\n",
       "    </g>\n",
       "    <g clip-path=\"url(#p193289c66b)\">\n",
       "     <use xlink:href=\"#C0_0_5d393aaaf0\" x=\"152.393129\" y=\"61.293206\" style=\"fill: #ff0000; stroke: #ff0000\"/>\n",
       "    </g>\n",
       "    <g clip-path=\"url(#p193289c66b)\">\n",
       "     <use xlink:href=\"#C0_0_5d393aaaf0\" x=\"203.947563\" y=\"235.06545\" style=\"fill: #0000ff; stroke: #0000ff\"/>\n",
       "    </g>\n",
       "    <g clip-path=\"url(#p193289c66b)\">\n",
       "     <use xlink:href=\"#C0_0_5d393aaaf0\" x=\"244.251654\" y=\"206.257538\" style=\"fill: #0000ff; stroke: #0000ff\"/>\n",
       "    </g>\n",
       "    <g clip-path=\"url(#p193289c66b)\">\n",
       "     <use xlink:href=\"#C0_0_5d393aaaf0\" x=\"192.842094\" y=\"223.893567\" style=\"fill: #0000ff; stroke: #0000ff\"/>\n",
       "    </g>\n",
       "    <g clip-path=\"url(#p193289c66b)\">\n",
       "     <use xlink:href=\"#C0_0_5d393aaaf0\" x=\"202.395984\" y=\"234.979563\" style=\"fill: #0000ff; stroke: #0000ff\"/>\n",
       "    </g>\n",
       "    <g clip-path=\"url(#p193289c66b)\">\n",
       "     <use xlink:href=\"#C0_0_5d393aaaf0\" x=\"259.415157\" y=\"221.818135\" style=\"fill: #0000ff; stroke: #0000ff\"/>\n",
       "    </g>\n",
       "    <g clip-path=\"url(#p193289c66b)\">\n",
       "     <use xlink:href=\"#C0_0_5d393aaaf0\" x=\"248.932595\" y=\"111.536359\" style=\"fill: #ff0000; stroke: #ff0000\"/>\n",
       "    </g>\n",
       "    <g clip-path=\"url(#p193289c66b)\">\n",
       "     <use xlink:href=\"#C0_0_5d393aaaf0\" x=\"135.858239\" y=\"84.156915\" style=\"fill: #ff0000; stroke: #ff0000\"/>\n",
       "    </g>\n",
       "    <g clip-path=\"url(#p193289c66b)\">\n",
       "     <use xlink:href=\"#C0_0_5d393aaaf0\" x=\"52.729318\" y=\"54.746112\" style=\"fill: #ff0000; stroke: #ff0000\"/>\n",
       "    </g>\n",
       "    <g clip-path=\"url(#p193289c66b)\">\n",
       "     <use xlink:href=\"#C0_0_5d393aaaf0\" x=\"236.971844\" y=\"236.117202\" style=\"fill: #0000ff; stroke: #0000ff\"/>\n",
       "    </g>\n",
       "    <g clip-path=\"url(#p193289c66b)\">\n",
       "     <use xlink:href=\"#C0_0_5d393aaaf0\" x=\"232.570066\" y=\"98.683353\" style=\"fill: #ff0000; stroke: #ff0000\"/>\n",
       "    </g>\n",
       "    <g clip-path=\"url(#p193289c66b)\">\n",
       "     <use xlink:href=\"#C0_0_5d393aaaf0\" x=\"238.226864\" y=\"198.981816\" style=\"fill: #0000ff; stroke: #0000ff\"/>\n",
       "    </g>\n",
       "    <g clip-path=\"url(#p193289c66b)\">\n",
       "     <use xlink:href=\"#C0_0_5d393aaaf0\" x=\"120.162187\" y=\"61.931589\" style=\"fill: #ff0000; stroke: #ff0000\"/>\n",
       "    </g>\n",
       "    <g clip-path=\"url(#p193289c66b)\">\n",
       "     <use xlink:href=\"#C0_0_5d393aaaf0\" x=\"174.65002\" y=\"63.365585\" style=\"fill: #ff0000; stroke: #ff0000\"/>\n",
       "    </g>\n",
       "    <g clip-path=\"url(#p193289c66b)\">\n",
       "     <use xlink:href=\"#C0_0_5d393aaaf0\" x=\"90.934312\" y=\"78.086293\" style=\"fill: #ff0000; stroke: #ff0000\"/>\n",
       "    </g>\n",
       "    <g clip-path=\"url(#p193289c66b)\">\n",
       "     <use xlink:href=\"#C0_0_5d393aaaf0\" x=\"218.950291\" y=\"32.769627\" style=\"fill: #ff0000; stroke: #ff0000\"/>\n",
       "    </g>\n",
       "    <g clip-path=\"url(#p193289c66b)\">\n",
       "     <use xlink:href=\"#C0_0_5d393aaaf0\" x=\"217.078768\" y=\"223.77988\" style=\"fill: #0000ff; stroke: #0000ff\"/>\n",
       "    </g>\n",
       "    <g clip-path=\"url(#p193289c66b)\">\n",
       "     <use xlink:href=\"#C0_0_5d393aaaf0\" x=\"234.916785\" y=\"214.463192\" style=\"fill: #0000ff; stroke: #0000ff\"/>\n",
       "    </g>\n",
       "    <g clip-path=\"url(#p193289c66b)\">\n",
       "     <use xlink:href=\"#C0_0_5d393aaaf0\" x=\"162.452484\" y=\"33.176032\" style=\"fill: #ff0000; stroke: #ff0000\"/>\n",
       "    </g>\n",
       "    <g clip-path=\"url(#p193289c66b)\">\n",
       "     <use xlink:href=\"#C0_0_5d393aaaf0\" x=\"248.698135\" y=\"266.680248\" style=\"fill: #0000ff; stroke: #0000ff\"/>\n",
       "    </g>\n",
       "    <g clip-path=\"url(#p193289c66b)\">\n",
       "     <use xlink:href=\"#C0_0_5d393aaaf0\" x=\"135.811333\" y=\"104.161829\" style=\"fill: #ff0000; stroke: #ff0000\"/>\n",
       "    </g>\n",
       "    <g clip-path=\"url(#p193289c66b)\">\n",
       "     <use xlink:href=\"#C0_0_5d393aaaf0\" x=\"163.43242\" y=\"212.825398\" style=\"fill: #0000ff; stroke: #0000ff\"/>\n",
       "    </g>\n",
       "    <g clip-path=\"url(#p193289c66b)\">\n",
       "     <use xlink:href=\"#C0_0_5d393aaaf0\" x=\"195.244734\" y=\"76.4326\" style=\"fill: #ff0000; stroke: #ff0000\"/>\n",
       "    </g>\n",
       "    <g clip-path=\"url(#p193289c66b)\">\n",
       "     <use xlink:href=\"#C0_0_5d393aaaf0\" x=\"196.672475\" y=\"271.8\" style=\"fill: #0000ff; stroke: #0000ff\"/>\n",
       "    </g>\n",
       "    <g clip-path=\"url(#p193289c66b)\">\n",
       "     <use xlink:href=\"#C0_0_5d393aaaf0\" x=\"182.351946\" y=\"201.024247\" style=\"fill: #0000ff; stroke: #0000ff\"/>\n",
       "    </g>\n",
       "    <g clip-path=\"url(#p193289c66b)\">\n",
       "     <use xlink:href=\"#C0_0_5d393aaaf0\" x=\"158.453962\" y=\"77.397789\" style=\"fill: #ff0000; stroke: #ff0000\"/>\n",
       "    </g>\n",
       "    <g clip-path=\"url(#p193289c66b)\">\n",
       "     <use xlink:href=\"#C0_0_5d393aaaf0\" x=\"178.066605\" y=\"199.176928\" style=\"fill: #0000ff; stroke: #0000ff\"/>\n",
       "    </g>\n",
       "    <g clip-path=\"url(#p193289c66b)\">\n",
       "     <use xlink:href=\"#C0_0_5d393aaaf0\" x=\"290.300062\" y=\"174.216716\" style=\"fill: #0000ff; stroke: #0000ff\"/>\n",
       "    </g>\n",
       "    <g clip-path=\"url(#p193289c66b)\">\n",
       "     <use xlink:href=\"#C0_0_5d393aaaf0\" x=\"113.934187\" y=\"110.611012\" style=\"fill: #ff0000; stroke: #ff0000\"/>\n",
       "    </g>\n",
       "    <g clip-path=\"url(#p193289c66b)\">\n",
       "     <use xlink:href=\"#C0_0_5d393aaaf0\" x=\"277.709815\" y=\"230.140278\" style=\"fill: #0000ff; stroke: #0000ff\"/>\n",
       "    </g>\n",
       "    <g clip-path=\"url(#p193289c66b)\">\n",
       "     <use xlink:href=\"#C0_0_5d393aaaf0\" x=\"142.438294\" y=\"68.142827\" style=\"fill: #ff0000; stroke: #ff0000\"/>\n",
       "    </g>\n",
       "   </g>\n",
       "   <g id=\"matplotlib.axis_1\">\n",
       "    <g id=\"xtick_1\">\n",
       "     <g id=\"line2d_1\">\n",
       "      <defs>\n",
       "       <path id=\"m91089d67fd\" d=\"M 0 0 \n",
       "L 0 3.5 \n",
       "\" style=\"stroke: #000000; stroke-width: 0.8\"/>\n",
       "      </defs>\n",
       "      <g>\n",
       "       <use xlink:href=\"#m91089d67fd\" x=\"56.494102\" y=\"284.4\" style=\"stroke: #000000; stroke-width: 0.8\"/>\n",
       "      </g>\n",
       "     </g>\n",
       "     <g id=\"text_1\">\n",
       "      <!-- −0.5 -->\n",
       "      <g transform=\"translate(44.352696 298.998438) scale(0.1 -0.1)\">\n",
       "       <defs>\n",
       "        <path id=\"DejaVuSans-2212\" d=\"M 678 2272 \n",
       "L 4684 2272 \n",
       "L 4684 1741 \n",
       "L 678 1741 \n",
       "L 678 2272 \n",
       "z\n",
       "\" transform=\"scale(0.015625)\"/>\n",
       "        <path id=\"DejaVuSans-30\" d=\"M 2034 4250 \n",
       "Q 1547 4250 1301 3770 \n",
       "Q 1056 3291 1056 2328 \n",
       "Q 1056 1369 1301 889 \n",
       "Q 1547 409 2034 409 \n",
       "Q 2525 409 2770 889 \n",
       "Q 3016 1369 3016 2328 \n",
       "Q 3016 3291 2770 3770 \n",
       "Q 2525 4250 2034 4250 \n",
       "z\n",
       "M 2034 4750 \n",
       "Q 2819 4750 3233 4129 \n",
       "Q 3647 3509 3647 2328 \n",
       "Q 3647 1150 3233 529 \n",
       "Q 2819 -91 2034 -91 \n",
       "Q 1250 -91 836 529 \n",
       "Q 422 1150 422 2328 \n",
       "Q 422 3509 836 4129 \n",
       "Q 1250 4750 2034 4750 \n",
       "z\n",
       "\" transform=\"scale(0.015625)\"/>\n",
       "        <path id=\"DejaVuSans-2e\" d=\"M 684 794 \n",
       "L 1344 794 \n",
       "L 1344 0 \n",
       "L 684 0 \n",
       "L 684 794 \n",
       "z\n",
       "\" transform=\"scale(0.015625)\"/>\n",
       "        <path id=\"DejaVuSans-35\" d=\"M 691 4666 \n",
       "L 3169 4666 \n",
       "L 3169 4134 \n",
       "L 1269 4134 \n",
       "L 1269 2991 \n",
       "Q 1406 3038 1543 3061 \n",
       "Q 1681 3084 1819 3084 \n",
       "Q 2600 3084 3056 2656 \n",
       "Q 3513 2228 3513 1497 \n",
       "Q 3513 744 3044 326 \n",
       "Q 2575 -91 1722 -91 \n",
       "Q 1428 -91 1123 -41 \n",
       "Q 819 9 494 109 \n",
       "L 494 744 \n",
       "Q 775 591 1075 516 \n",
       "Q 1375 441 1709 441 \n",
       "Q 2250 441 2565 725 \n",
       "Q 2881 1009 2881 1497 \n",
       "Q 2881 1984 2565 2268 \n",
       "Q 2250 2553 1709 2553 \n",
       "Q 1456 2553 1204 2497 \n",
       "Q 953 2441 691 2322 \n",
       "L 691 4666 \n",
       "z\n",
       "\" transform=\"scale(0.015625)\"/>\n",
       "       </defs>\n",
       "       <use xlink:href=\"#DejaVuSans-2212\"/>\n",
       "       <use xlink:href=\"#DejaVuSans-30\" x=\"83.789062\"/>\n",
       "       <use xlink:href=\"#DejaVuSans-2e\" x=\"147.412109\"/>\n",
       "       <use xlink:href=\"#DejaVuSans-35\" x=\"179.199219\"/>\n",
       "      </g>\n",
       "     </g>\n",
       "    </g>\n",
       "    <g id=\"xtick_2\">\n",
       "     <g id=\"line2d_2\">\n",
       "      <g>\n",
       "       <use xlink:href=\"#m91089d67fd\" x=\"90.396527\" y=\"284.4\" style=\"stroke: #000000; stroke-width: 0.8\"/>\n",
       "      </g>\n",
       "     </g>\n",
       "     <g id=\"text_2\">\n",
       "      <!-- 0.0 -->\n",
       "      <g transform=\"translate(82.444964 298.998438) scale(0.1 -0.1)\">\n",
       "       <use xlink:href=\"#DejaVuSans-30\"/>\n",
       "       <use xlink:href=\"#DejaVuSans-2e\" x=\"63.623047\"/>\n",
       "       <use xlink:href=\"#DejaVuSans-30\" x=\"95.410156\"/>\n",
       "      </g>\n",
       "     </g>\n",
       "    </g>\n",
       "    <g id=\"xtick_3\">\n",
       "     <g id=\"line2d_3\">\n",
       "      <g>\n",
       "       <use xlink:href=\"#m91089d67fd\" x=\"124.298951\" y=\"284.4\" style=\"stroke: #000000; stroke-width: 0.8\"/>\n",
       "      </g>\n",
       "     </g>\n",
       "     <g id=\"text_3\">\n",
       "      <!-- 0.5 -->\n",
       "      <g transform=\"translate(116.347389 298.998438) scale(0.1 -0.1)\">\n",
       "       <use xlink:href=\"#DejaVuSans-30\"/>\n",
       "       <use xlink:href=\"#DejaVuSans-2e\" x=\"63.623047\"/>\n",
       "       <use xlink:href=\"#DejaVuSans-35\" x=\"95.410156\"/>\n",
       "      </g>\n",
       "     </g>\n",
       "    </g>\n",
       "    <g id=\"xtick_4\">\n",
       "     <g id=\"line2d_4\">\n",
       "      <g>\n",
       "       <use xlink:href=\"#m91089d67fd\" x=\"158.201376\" y=\"284.4\" style=\"stroke: #000000; stroke-width: 0.8\"/>\n",
       "      </g>\n",
       "     </g>\n",
       "     <g id=\"text_4\">\n",
       "      <!-- 1.0 -->\n",
       "      <g transform=\"translate(150.249814 298.998438) scale(0.1 -0.1)\">\n",
       "       <defs>\n",
       "        <path id=\"DejaVuSans-31\" d=\"M 794 531 \n",
       "L 1825 531 \n",
       "L 1825 4091 \n",
       "L 703 3866 \n",
       "L 703 4441 \n",
       "L 1819 4666 \n",
       "L 2450 4666 \n",
       "L 2450 531 \n",
       "L 3481 531 \n",
       "L 3481 0 \n",
       "L 794 0 \n",
       "L 794 531 \n",
       "z\n",
       "\" transform=\"scale(0.015625)\"/>\n",
       "       </defs>\n",
       "       <use xlink:href=\"#DejaVuSans-31\"/>\n",
       "       <use xlink:href=\"#DejaVuSans-2e\" x=\"63.623047\"/>\n",
       "       <use xlink:href=\"#DejaVuSans-30\" x=\"95.410156\"/>\n",
       "      </g>\n",
       "     </g>\n",
       "    </g>\n",
       "    <g id=\"xtick_5\">\n",
       "     <g id=\"line2d_5\">\n",
       "      <g>\n",
       "       <use xlink:href=\"#m91089d67fd\" x=\"192.103801\" y=\"284.4\" style=\"stroke: #000000; stroke-width: 0.8\"/>\n",
       "      </g>\n",
       "     </g>\n",
       "     <g id=\"text_5\">\n",
       "      <!-- 1.5 -->\n",
       "      <g transform=\"translate(184.152239 298.998438) scale(0.1 -0.1)\">\n",
       "       <use xlink:href=\"#DejaVuSans-31\"/>\n",
       "       <use xlink:href=\"#DejaVuSans-2e\" x=\"63.623047\"/>\n",
       "       <use xlink:href=\"#DejaVuSans-35\" x=\"95.410156\"/>\n",
       "      </g>\n",
       "     </g>\n",
       "    </g>\n",
       "    <g id=\"xtick_6\">\n",
       "     <g id=\"line2d_6\">\n",
       "      <g>\n",
       "       <use xlink:href=\"#m91089d67fd\" x=\"226.006226\" y=\"284.4\" style=\"stroke: #000000; stroke-width: 0.8\"/>\n",
       "      </g>\n",
       "     </g>\n",
       "     <g id=\"text_6\">\n",
       "      <!-- 2.0 -->\n",
       "      <g transform=\"translate(218.054663 298.998438) scale(0.1 -0.1)\">\n",
       "       <defs>\n",
       "        <path id=\"DejaVuSans-32\" d=\"M 1228 531 \n",
       "L 3431 531 \n",
       "L 3431 0 \n",
       "L 469 0 \n",
       "L 469 531 \n",
       "Q 828 903 1448 1529 \n",
       "Q 2069 2156 2228 2338 \n",
       "Q 2531 2678 2651 2914 \n",
       "Q 2772 3150 2772 3378 \n",
       "Q 2772 3750 2511 3984 \n",
       "Q 2250 4219 1831 4219 \n",
       "Q 1534 4219 1204 4116 \n",
       "Q 875 4013 500 3803 \n",
       "L 500 4441 \n",
       "Q 881 4594 1212 4672 \n",
       "Q 1544 4750 1819 4750 \n",
       "Q 2544 4750 2975 4387 \n",
       "Q 3406 4025 3406 3419 \n",
       "Q 3406 3131 3298 2873 \n",
       "Q 3191 2616 2906 2266 \n",
       "Q 2828 2175 2409 1742 \n",
       "Q 1991 1309 1228 531 \n",
       "z\n",
       "\" transform=\"scale(0.015625)\"/>\n",
       "       </defs>\n",
       "       <use xlink:href=\"#DejaVuSans-32\"/>\n",
       "       <use xlink:href=\"#DejaVuSans-2e\" x=\"63.623047\"/>\n",
       "       <use xlink:href=\"#DejaVuSans-30\" x=\"95.410156\"/>\n",
       "      </g>\n",
       "     </g>\n",
       "    </g>\n",
       "    <g id=\"xtick_7\">\n",
       "     <g id=\"line2d_7\">\n",
       "      <g>\n",
       "       <use xlink:href=\"#m91089d67fd\" x=\"259.908651\" y=\"284.4\" style=\"stroke: #000000; stroke-width: 0.8\"/>\n",
       "      </g>\n",
       "     </g>\n",
       "     <g id=\"text_7\">\n",
       "      <!-- 2.5 -->\n",
       "      <g transform=\"translate(251.957088 298.998438) scale(0.1 -0.1)\">\n",
       "       <use xlink:href=\"#DejaVuSans-32\"/>\n",
       "       <use xlink:href=\"#DejaVuSans-2e\" x=\"63.623047\"/>\n",
       "       <use xlink:href=\"#DejaVuSans-35\" x=\"95.410156\"/>\n",
       "      </g>\n",
       "     </g>\n",
       "    </g>\n",
       "    <g id=\"xtick_8\">\n",
       "     <g id=\"line2d_8\">\n",
       "      <g>\n",
       "       <use xlink:href=\"#m91089d67fd\" x=\"293.811076\" y=\"284.4\" style=\"stroke: #000000; stroke-width: 0.8\"/>\n",
       "      </g>\n",
       "     </g>\n",
       "     <g id=\"text_8\">\n",
       "      <!-- 3.0 -->\n",
       "      <g transform=\"translate(285.859513 298.998438) scale(0.1 -0.1)\">\n",
       "       <defs>\n",
       "        <path id=\"DejaVuSans-33\" d=\"M 2597 2516 \n",
       "Q 3050 2419 3304 2112 \n",
       "Q 3559 1806 3559 1356 \n",
       "Q 3559 666 3084 287 \n",
       "Q 2609 -91 1734 -91 \n",
       "Q 1441 -91 1130 -33 \n",
       "Q 819 25 488 141 \n",
       "L 488 750 \n",
       "Q 750 597 1062 519 \n",
       "Q 1375 441 1716 441 \n",
       "Q 2309 441 2620 675 \n",
       "Q 2931 909 2931 1356 \n",
       "Q 2931 1769 2642 2001 \n",
       "Q 2353 2234 1838 2234 \n",
       "L 1294 2234 \n",
       "L 1294 2753 \n",
       "L 1863 2753 \n",
       "Q 2328 2753 2575 2939 \n",
       "Q 2822 3125 2822 3475 \n",
       "Q 2822 3834 2567 4026 \n",
       "Q 2313 4219 1838 4219 \n",
       "Q 1578 4219 1281 4162 \n",
       "Q 984 4106 628 3988 \n",
       "L 628 4550 \n",
       "Q 988 4650 1302 4700 \n",
       "Q 1616 4750 1894 4750 \n",
       "Q 2613 4750 3031 4423 \n",
       "Q 3450 4097 3450 3541 \n",
       "Q 3450 3153 3228 2886 \n",
       "Q 3006 2619 2597 2516 \n",
       "z\n",
       "\" transform=\"scale(0.015625)\"/>\n",
       "       </defs>\n",
       "       <use xlink:href=\"#DejaVuSans-33\"/>\n",
       "       <use xlink:href=\"#DejaVuSans-2e\" x=\"63.623047\"/>\n",
       "       <use xlink:href=\"#DejaVuSans-30\" x=\"95.410156\"/>\n",
       "      </g>\n",
       "     </g>\n",
       "    </g>\n",
       "    <g id=\"text_9\">\n",
       "     <!-- $x_1$ -->\n",
       "     <g transform=\"translate(170.9875 317.235625) scale(0.16 -0.16)\">\n",
       "      <defs>\n",
       "       <path id=\"DejaVuSans-Oblique-78\" d=\"M 3841 3500 \n",
       "L 2234 1784 \n",
       "L 3219 0 \n",
       "L 2559 0 \n",
       "L 1819 1388 \n",
       "L 531 0 \n",
       "L -166 0 \n",
       "L 1556 1844 \n",
       "L 641 3500 \n",
       "L 1300 3500 \n",
       "L 1972 2234 \n",
       "L 3144 3500 \n",
       "L 3841 3500 \n",
       "z\n",
       "\" transform=\"scale(0.015625)\"/>\n",
       "      </defs>\n",
       "      <use xlink:href=\"#DejaVuSans-Oblique-78\" transform=\"translate(0 0.3125)\"/>\n",
       "      <use xlink:href=\"#DejaVuSans-31\" transform=\"translate(59.179688 -16.09375) scale(0.7)\"/>\n",
       "     </g>\n",
       "    </g>\n",
       "   </g>\n",
       "   <g id=\"matplotlib.axis_2\">\n",
       "    <g id=\"ytick_1\">\n",
       "     <g id=\"line2d_9\">\n",
       "      <defs>\n",
       "       <path id=\"me15276f6f5\" d=\"M 0 0 \n",
       "L -3.5 0 \n",
       "\" style=\"stroke: #000000; stroke-width: 0.8\"/>\n",
       "      </defs>\n",
       "      <g>\n",
       "       <use xlink:href=\"#me15276f6f5\" x=\"40.0475\" y=\"265.598919\" style=\"stroke: #000000; stroke-width: 0.8\"/>\n",
       "      </g>\n",
       "     </g>\n",
       "     <g id=\"text_10\">\n",
       "      <!-- 0 -->\n",
       "      <g transform=\"translate(26.685 269.398138) scale(0.1 -0.1)\">\n",
       "       <use xlink:href=\"#DejaVuSans-30\"/>\n",
       "      </g>\n",
       "     </g>\n",
       "    </g>\n",
       "    <g id=\"ytick_2\">\n",
       "     <g id=\"line2d_10\">\n",
       "      <g>\n",
       "       <use xlink:href=\"#me15276f6f5\" x=\"40.0475\" y=\"220.69801\" style=\"stroke: #000000; stroke-width: 0.8\"/>\n",
       "      </g>\n",
       "     </g>\n",
       "     <g id=\"text_11\">\n",
       "      <!-- 1 -->\n",
       "      <g transform=\"translate(26.685 224.497229) scale(0.1 -0.1)\">\n",
       "       <use xlink:href=\"#DejaVuSans-31\"/>\n",
       "      </g>\n",
       "     </g>\n",
       "    </g>\n",
       "    <g id=\"ytick_3\">\n",
       "     <g id=\"line2d_11\">\n",
       "      <g>\n",
       "       <use xlink:href=\"#me15276f6f5\" x=\"40.0475\" y=\"175.7971\" style=\"stroke: #000000; stroke-width: 0.8\"/>\n",
       "      </g>\n",
       "     </g>\n",
       "     <g id=\"text_12\">\n",
       "      <!-- 2 -->\n",
       "      <g transform=\"translate(26.685 179.596319) scale(0.1 -0.1)\">\n",
       "       <use xlink:href=\"#DejaVuSans-32\"/>\n",
       "      </g>\n",
       "     </g>\n",
       "    </g>\n",
       "    <g id=\"ytick_4\">\n",
       "     <g id=\"line2d_12\">\n",
       "      <g>\n",
       "       <use xlink:href=\"#me15276f6f5\" x=\"40.0475\" y=\"130.896191\" style=\"stroke: #000000; stroke-width: 0.8\"/>\n",
       "      </g>\n",
       "     </g>\n",
       "     <g id=\"text_13\">\n",
       "      <!-- 3 -->\n",
       "      <g transform=\"translate(26.685 134.695409) scale(0.1 -0.1)\">\n",
       "       <use xlink:href=\"#DejaVuSans-33\"/>\n",
       "      </g>\n",
       "     </g>\n",
       "    </g>\n",
       "    <g id=\"ytick_5\">\n",
       "     <g id=\"line2d_13\">\n",
       "      <g>\n",
       "       <use xlink:href=\"#me15276f6f5\" x=\"40.0475\" y=\"85.995281\" style=\"stroke: #000000; stroke-width: 0.8\"/>\n",
       "      </g>\n",
       "     </g>\n",
       "     <g id=\"text_14\">\n",
       "      <!-- 4 -->\n",
       "      <g transform=\"translate(26.685 89.7945) scale(0.1 -0.1)\">\n",
       "       <defs>\n",
       "        <path id=\"DejaVuSans-34\" d=\"M 2419 4116 \n",
       "L 825 1625 \n",
       "L 2419 1625 \n",
       "L 2419 4116 \n",
       "z\n",
       "M 2253 4666 \n",
       "L 3047 4666 \n",
       "L 3047 1625 \n",
       "L 3713 1625 \n",
       "L 3713 1100 \n",
       "L 3047 1100 \n",
       "L 3047 0 \n",
       "L 2419 0 \n",
       "L 2419 1100 \n",
       "L 313 1100 \n",
       "L 313 1709 \n",
       "L 2253 4666 \n",
       "z\n",
       "\" transform=\"scale(0.015625)\"/>\n",
       "       </defs>\n",
       "       <use xlink:href=\"#DejaVuSans-34\"/>\n",
       "      </g>\n",
       "     </g>\n",
       "    </g>\n",
       "    <g id=\"ytick_6\">\n",
       "     <g id=\"line2d_14\">\n",
       "      <g>\n",
       "       <use xlink:href=\"#me15276f6f5\" x=\"40.0475\" y=\"41.094372\" style=\"stroke: #000000; stroke-width: 0.8\"/>\n",
       "      </g>\n",
       "     </g>\n",
       "     <g id=\"text_15\">\n",
       "      <!-- 5 -->\n",
       "      <g transform=\"translate(26.685 44.89359) scale(0.1 -0.1)\">\n",
       "       <use xlink:href=\"#DejaVuSans-35\"/>\n",
       "      </g>\n",
       "     </g>\n",
       "    </g>\n",
       "    <g id=\"text_16\">\n",
       "     <!-- $x_2$ -->\n",
       "     <g transform=\"translate(19.3575 154.36) rotate(-90) scale(0.16 -0.16)\">\n",
       "      <use xlink:href=\"#DejaVuSans-Oblique-78\" transform=\"translate(0 0.3125)\"/>\n",
       "      <use xlink:href=\"#DejaVuSans-32\" transform=\"translate(59.179688 -16.09375) scale(0.7)\"/>\n",
       "     </g>\n",
       "    </g>\n",
       "   </g>\n",
       "   <g id=\"patch_3\">\n",
       "    <path d=\"M 40.0475 284.4 \n",
       "L 40.0475 7.2 \n",
       "\" style=\"fill: none; stroke: #000000; stroke-width: 0.8; stroke-linejoin: miter; stroke-linecap: square\"/>\n",
       "   </g>\n",
       "   <g id=\"patch_4\">\n",
       "    <path d=\"M 319.0475 284.4 \n",
       "L 319.0475 7.2 \n",
       "\" style=\"fill: none; stroke: #000000; stroke-width: 0.8; stroke-linejoin: miter; stroke-linecap: square\"/>\n",
       "   </g>\n",
       "   <g id=\"patch_5\">\n",
       "    <path d=\"M 40.0475 284.4 \n",
       "L 319.0475 284.4 \n",
       "\" style=\"fill: none; stroke: #000000; stroke-width: 0.8; stroke-linejoin: miter; stroke-linecap: square\"/>\n",
       "   </g>\n",
       "   <g id=\"patch_6\">\n",
       "    <path d=\"M 40.0475 7.2 \n",
       "L 319.0475 7.2 \n",
       "\" style=\"fill: none; stroke: #000000; stroke-width: 0.8; stroke-linejoin: miter; stroke-linecap: square\"/>\n",
       "   </g>\n",
       "  </g>\n",
       " </g>\n",
       " <defs>\n",
       "  <clipPath id=\"p193289c66b\">\n",
       "   <rect x=\"40.0475\" y=\"7.2\" width=\"279\" height=\"277.2\"/>\n",
       "  </clipPath>\n",
       " </defs>\n",
       "</svg>\n"
      ],
      "text/plain": [
       "<Figure size 500x500 with 1 Axes>"
      ]
     },
     "metadata": {},
     "output_type": "display_data"
    }
   ],
   "source": [
    "X, y = datasets.make_blobs(n_samples=50, centers=2,\n",
    "                  random_state=0, cluster_std=0.60)\n",
    "\n",
    "y[np.where(y==0)] = -1\n",
    "\n",
    "fig, ax = plt.subplots(figsize=(5, 5))\n",
    "ax.scatter(X[:, 0], X[:, 1], c=y, s=50, cmap=cmap)\n",
    "\n",
    "ax.set_xlabel(r'$x_1$', fontsize=16)\n",
    "ax.set_ylabel(r'$x_2$', fontsize=16)\n",
    "\n",
    "plt.show()"
   ]
  },
  {
   "cell_type": "markdown",
   "id": "43d2da5f-b77c-4a21-a432-a32c2b43f863",
   "metadata": {
    "id": "43d2da5f-b77c-4a21-a432-a32c2b43f863"
   },
   "source": [
    "In this task we will use the `SVC` model of `sklearn.svm` with a `kernel=linear` and large parameter `C`. `sklearn`'s module `svm` has implementations of several Support Vector Machine algorithms. Some are meant to solve Regression, some - Classification problems. `LinearSVC` stands for Linear Support Vector Classification which is exactly what we need in order to solve the maximal margin classification problem. However, `svm.SVC` offers more flexibility in order to extract the learned parameters etc."
   ]
  },
  {
   "cell_type": "code",
   "execution_count": 4,
   "id": "23ebbb6a-3e34-42de-86bc-40bb56dee0f9",
   "metadata": {
    "id": "23ebbb6a-3e34-42de-86bc-40bb56dee0f9",
    "tags": []
   },
   "outputs": [
    {
     "data": {
      "text/html": [
       "<style>#sk-container-id-1 {color: black;}#sk-container-id-1 pre{padding: 0;}#sk-container-id-1 div.sk-toggleable {background-color: white;}#sk-container-id-1 label.sk-toggleable__label {cursor: pointer;display: block;width: 100%;margin-bottom: 0;padding: 0.3em;box-sizing: border-box;text-align: center;}#sk-container-id-1 label.sk-toggleable__label-arrow:before {content: \"▸\";float: left;margin-right: 0.25em;color: #696969;}#sk-container-id-1 label.sk-toggleable__label-arrow:hover:before {color: black;}#sk-container-id-1 div.sk-estimator:hover label.sk-toggleable__label-arrow:before {color: black;}#sk-container-id-1 div.sk-toggleable__content {max-height: 0;max-width: 0;overflow: hidden;text-align: left;background-color: #f0f8ff;}#sk-container-id-1 div.sk-toggleable__content pre {margin: 0.2em;color: black;border-radius: 0.25em;background-color: #f0f8ff;}#sk-container-id-1 input.sk-toggleable__control:checked~div.sk-toggleable__content {max-height: 200px;max-width: 100%;overflow: auto;}#sk-container-id-1 input.sk-toggleable__control:checked~label.sk-toggleable__label-arrow:before {content: \"▾\";}#sk-container-id-1 div.sk-estimator input.sk-toggleable__control:checked~label.sk-toggleable__label {background-color: #d4ebff;}#sk-container-id-1 div.sk-label input.sk-toggleable__control:checked~label.sk-toggleable__label {background-color: #d4ebff;}#sk-container-id-1 input.sk-hidden--visually {border: 0;clip: rect(1px 1px 1px 1px);clip: rect(1px, 1px, 1px, 1px);height: 1px;margin: -1px;overflow: hidden;padding: 0;position: absolute;width: 1px;}#sk-container-id-1 div.sk-estimator {font-family: monospace;background-color: #f0f8ff;border: 1px dotted black;border-radius: 0.25em;box-sizing: border-box;margin-bottom: 0.5em;}#sk-container-id-1 div.sk-estimator:hover {background-color: #d4ebff;}#sk-container-id-1 div.sk-parallel-item::after {content: \"\";width: 100%;border-bottom: 1px solid gray;flex-grow: 1;}#sk-container-id-1 div.sk-label:hover label.sk-toggleable__label {background-color: #d4ebff;}#sk-container-id-1 div.sk-serial::before {content: \"\";position: absolute;border-left: 1px solid gray;box-sizing: border-box;top: 0;bottom: 0;left: 50%;z-index: 0;}#sk-container-id-1 div.sk-serial {display: flex;flex-direction: column;align-items: center;background-color: white;padding-right: 0.2em;padding-left: 0.2em;position: relative;}#sk-container-id-1 div.sk-item {position: relative;z-index: 1;}#sk-container-id-1 div.sk-parallel {display: flex;align-items: stretch;justify-content: center;background-color: white;position: relative;}#sk-container-id-1 div.sk-item::before, #sk-container-id-1 div.sk-parallel-item::before {content: \"\";position: absolute;border-left: 1px solid gray;box-sizing: border-box;top: 0;bottom: 0;left: 50%;z-index: -1;}#sk-container-id-1 div.sk-parallel-item {display: flex;flex-direction: column;z-index: 1;position: relative;background-color: white;}#sk-container-id-1 div.sk-parallel-item:first-child::after {align-self: flex-end;width: 50%;}#sk-container-id-1 div.sk-parallel-item:last-child::after {align-self: flex-start;width: 50%;}#sk-container-id-1 div.sk-parallel-item:only-child::after {width: 0;}#sk-container-id-1 div.sk-dashed-wrapped {border: 1px dashed gray;margin: 0 0.4em 0.5em 0.4em;box-sizing: border-box;padding-bottom: 0.4em;background-color: white;}#sk-container-id-1 div.sk-label label {font-family: monospace;font-weight: bold;display: inline-block;line-height: 1.2em;}#sk-container-id-1 div.sk-label-container {text-align: center;}#sk-container-id-1 div.sk-container {/* jupyter's `normalize.less` sets `[hidden] { display: none; }` but bootstrap.min.css set `[hidden] { display: none !important; }` so we also need the `!important` here to be able to override the default hidden behavior on the sphinx rendered scikit-learn.org. See: https://github.com/scikit-learn/scikit-learn/issues/21755 */display: inline-block !important;position: relative;}#sk-container-id-1 div.sk-text-repr-fallback {display: none;}</style><div id=\"sk-container-id-1\" class=\"sk-top-container\"><div class=\"sk-text-repr-fallback\"><pre>SVC(C=1000, kernel=&#x27;linear&#x27;, tol=0.0001)</pre><b>In a Jupyter environment, please rerun this cell to show the HTML representation or trust the notebook. <br />On GitHub, the HTML representation is unable to render, please try loading this page with nbviewer.org.</b></div><div class=\"sk-container\" hidden><div class=\"sk-item\"><div class=\"sk-estimator sk-toggleable\"><input class=\"sk-toggleable__control sk-hidden--visually\" id=\"sk-estimator-id-1\" type=\"checkbox\" checked><label for=\"sk-estimator-id-1\" class=\"sk-toggleable__label sk-toggleable__label-arrow\">SVC</label><div class=\"sk-toggleable__content\"><pre>SVC(C=1000, kernel=&#x27;linear&#x27;, tol=0.0001)</pre></div></div></div></div></div>"
      ],
      "text/plain": [
       "SVC(C=1000, kernel='linear', tol=0.0001)"
      ]
     },
     "execution_count": 4,
     "metadata": {},
     "output_type": "execute_result"
    }
   ],
   "source": [
    "model = svm.SVC(kernel='linear', C=1000, tol=0.0001) # initialize the model\n",
    "model.fit(X, y) # fit the model = learn the decision boundaries"
   ]
  },
  {
   "cell_type": "markdown",
   "id": "42cbd32e-a9d9-408e-b647-2be8e3eae63f",
   "metadata": {
    "id": "42cbd32e-a9d9-408e-b647-2be8e3eae63f"
   },
   "source": [
    "When the optimisation has completed, you can access the parameters of the separating hyperplane. The vector $\\mathbf{w}$:"
   ]
  },
  {
   "cell_type": "code",
   "execution_count": 5,
   "id": "7420afd1-bfd8-47fa-b306-c898658a1498",
   "metadata": {
    "id": "7420afd1-bfd8-47fa-b306-c898658a1498",
    "tags": []
   },
   "outputs": [
    {
     "data": {
      "text/plain": [
       "array([[ 0.2354745 , -1.41254898]])"
      ]
     },
     "execution_count": 5,
     "metadata": {},
     "output_type": "execute_result"
    }
   ],
   "source": [
    "model.coef_"
   ]
  },
  {
   "cell_type": "markdown",
   "id": "63cf71dc-a753-4784-92f9-f52f2e5638f9",
   "metadata": {
    "id": "63cf71dc-a753-4784-92f9-f52f2e5638f9"
   },
   "source": [
    "The $b$:"
   ]
  },
  {
   "cell_type": "code",
   "execution_count": 6,
   "id": "bc71041a-b432-4cb3-8057-e46dcf305938",
   "metadata": {
    "id": "bc71041a-b432-4cb3-8057-e46dcf305938",
    "tags": []
   },
   "outputs": [
    {
     "data": {
      "text/plain": [
       "array([3.2961071])"
      ]
     },
     "execution_count": 6,
     "metadata": {},
     "output_type": "execute_result"
    }
   ],
   "source": [
    "model.intercept_"
   ]
  },
  {
   "cell_type": "markdown",
   "id": "ea9af3db-c843-422c-ba5a-875d719ad9a0",
   "metadata": {
    "id": "ea9af3db-c843-422c-ba5a-875d719ad9a0",
    "tags": []
   },
   "source": [
    "The indices of the support vectors:"
   ]
  },
  {
   "cell_type": "code",
   "execution_count": 7,
   "id": "9fa4d49b-f42b-4de2-9e54-1ae516a5a495",
   "metadata": {
    "id": "9fa4d49b-f42b-4de2-9e54-1ae516a5a495",
    "tags": []
   },
   "outputs": [
    {
     "data": {
      "text/plain": [
       "array([18, 25,  7], dtype=int32)"
      ]
     },
     "execution_count": 7,
     "metadata": {},
     "output_type": "execute_result"
    }
   ],
   "source": [
    "model.support_"
   ]
  },
  {
   "cell_type": "markdown",
   "id": "728a5bd2-239a-43dc-ba2a-ab8df28f836b",
   "metadata": {
    "id": "728a5bd2-239a-43dc-ba2a-ab8df28f836b"
   },
   "source": [
    "So you can slice $\\mathbf{X}$ for the corresponding coordinates"
   ]
  },
  {
   "cell_type": "code",
   "execution_count": 8,
   "id": "bbeef760-10a1-406d-bd6c-e31742857bac",
   "metadata": {
    "id": "bbeef760-10a1-406d-bd6c-e31742857bac",
    "tags": []
   },
   "outputs": [
    {
     "data": {
      "text/plain": [
       "array([[0.44359863, 3.11530945],\n",
       "       [2.33812285, 3.43116792],\n",
       "       [2.06156753, 1.96918596]])"
      ]
     },
     "execution_count": 8,
     "metadata": {},
     "output_type": "execute_result"
    }
   ],
   "source": [
    "X[model.support_]"
   ]
  },
  {
   "cell_type": "markdown",
   "id": "4b49c5f7-a206-4543-894a-adaf0dd3bb6c",
   "metadata": {
    "id": "4b49c5f7-a206-4543-894a-adaf0dd3bb6c"
   },
   "source": [
    "or get them directly:"
   ]
  },
  {
   "cell_type": "code",
   "execution_count": 9,
   "id": "ab2de8e6-e43e-4bbd-9c6e-906b980b5672",
   "metadata": {
    "id": "ab2de8e6-e43e-4bbd-9c6e-906b980b5672",
    "tags": []
   },
   "outputs": [
    {
     "data": {
      "text/plain": [
       "array([[0.44359863, 3.11530945],\n",
       "       [2.33812285, 3.43116792],\n",
       "       [2.06156753, 1.96918596]])"
      ]
     },
     "execution_count": 9,
     "metadata": {},
     "output_type": "execute_result"
    }
   ],
   "source": [
    "model.support_vectors_"
   ]
  },
  {
   "cell_type": "markdown",
   "id": "f5e64571-5b2a-4d7f-8889-0d5864c0f577",
   "metadata": {
    "id": "f5e64571-5b2a-4d7f-8889-0d5864c0f577"
   },
   "source": [
    "**Task 1A** Calculate $y^{(m)}\\left(b+w^Tx^{(m)}\\right)$ for every support vector. Please explain whether the result complies with your expectation and why?"
   ]
  },
  {
   "cell_type": "code",
   "execution_count": null,
   "id": "c47e38b2-41a0-4d58-b42d-0b7050efa0e0",
   "metadata": {
    "id": "c47e38b2-41a0-4d58-b42d-0b7050efa0e0"
   },
   "outputs": [],
   "source": []
  },
  {
   "cell_type": "markdown",
   "id": "d41b1d9d-e221-4765-8611-571f47084ad0",
   "metadata": {
    "id": "d41b1d9d-e221-4765-8611-571f47084ad0"
   },
   "source": [
    "Report the calculated values and your explanation from Task 1A in Moodle."
   ]
  },
  {
   "cell_type": "code",
   "execution_count": null,
   "id": "0d3f2bea-d4d2-4888-b4a6-1492e3405988",
   "metadata": {
    "id": "0d3f2bea-d4d2-4888-b4a6-1492e3405988"
   },
   "outputs": [],
   "source": []
  },
  {
   "cell_type": "markdown",
   "id": "7d69fc08-0000-4819-ab8d-9e9dcc8de9c8",
   "metadata": {
    "id": "7d69fc08-0000-4819-ab8d-9e9dcc8de9c8"
   },
   "source": [
    "**Task 1B** Calculate the distance from the decision boundary to the support vectors, i.e. the width of the margin"
   ]
  },
  {
   "cell_type": "code",
   "execution_count": null,
   "id": "3531a93f-2dc5-4674-847d-c5ac720e1230",
   "metadata": {
    "id": "3531a93f-2dc5-4674-847d-c5ac720e1230"
   },
   "outputs": [],
   "source": []
  },
  {
   "cell_type": "markdown",
   "id": "bcb821b4-551a-4c46-81bc-246295ef43e1",
   "metadata": {
    "id": "bcb821b4-551a-4c46-81bc-246295ef43e1"
   },
   "source": [
    "Report the width of the margin calculated in Task 1B."
   ]
  },
  {
   "cell_type": "code",
   "execution_count": null,
   "id": "5e84d30a-0a8f-402f-8dbf-64aaafa91402",
   "metadata": {
    "id": "5e84d30a-0a8f-402f-8dbf-64aaafa91402"
   },
   "outputs": [],
   "source": []
  },
  {
   "cell_type": "markdown",
   "id": "515a6183-5ee3-454f-8430-7bf3a1ff119f",
   "metadata": {
    "id": "515a6183-5ee3-454f-8430-7bf3a1ff119f"
   },
   "source": [
    "**Task 1C** Generate a scatterplot with the data $X$, the decision boundary and the gutters like in\n",
    "https://github.zhaw.ch/pages/doem/mldm_book/06_svm.html#fig-max-margin\n",
    "using the optimised parameters `model.interecept_` and `model.coef_[0]`"
   ]
  },
  {
   "cell_type": "code",
   "execution_count": null,
   "id": "862e2901-a73a-49b4-bb9d-c30ae8b216c9",
   "metadata": {
    "id": "862e2901-a73a-49b4-bb9d-c30ae8b216c9"
   },
   "outputs": [],
   "source": []
  },
  {
   "cell_type": "markdown",
   "id": "cd6e8cb6-d84f-4c15-8ec7-b85b5de660e7",
   "metadata": {
    "id": "cd6e8cb6-d84f-4c15-8ec7-b85b5de660e7"
   },
   "source": []
  },
  {
   "cell_type": "code",
   "execution_count": null,
   "id": "200853c4-901b-49ac-8093-b3ab4e273306",
   "metadata": {
    "id": "200853c4-901b-49ac-8093-b3ab4e273306"
   },
   "outputs": [],
   "source": []
  },
  {
   "cell_type": "markdown",
   "id": "a207e57a-af49-463d-b93a-e0a733a074b3",
   "metadata": {
    "id": "a207e57a-af49-463d-b93a-e0a733a074b3"
   },
   "source": [
    "## Task 2 Large Margin Classifier on the Wine Dataset (4 points)\n",
    "This dataset `sklearn.datasets.load_wine()` contains the chemical analysis of 178 wine samples produced by 3 different cultivators: the goal is to train a classification model capable of predicting the cultivator based on the wine's chemical analysis. Since SVM classifiers are binary classifiers, you will need to use one-versus-all to classify all 3 classes. What accuracy can you reach?"
   ]
  },
  {
   "cell_type": "code",
   "execution_count": null,
   "id": "016a06f5-f14a-4abe-9733-22760bf5a8d1",
   "metadata": {
    "id": "016a06f5-f14a-4abe-9733-22760bf5a8d1",
    "tags": []
   },
   "outputs": [],
   "source": [
    "wine = datasets.load_wine(as_frame=True)\n",
    "print(wine.DESCR)"
   ]
  },
  {
   "cell_type": "markdown",
   "id": "c29cd774-13d5-42ec-886b-2e90305f36aa",
   "metadata": {
    "id": "c29cd774-13d5-42ec-886b-2e90305f36aa"
   },
   "source": [
    "**TASK 2A**: Train a linear SVM on the dataset and report the accuracy"
   ]
  },
  {
   "cell_type": "code",
   "execution_count": null,
   "id": "bd87802f-1a57-47bf-b639-d70d44c837c3",
   "metadata": {
    "id": "bd87802f-1a57-47bf-b639-d70d44c837c3",
    "tags": []
   },
   "outputs": [],
   "source": [
    "from sklearn.model_selection import train_test_split\n",
    "\n",
    "X_train, X_test, y_train, y_test = train_test_split(\n",
    "    wine.data, wine.target, random_state=42)"
   ]
  },
  {
   "cell_type": "code",
   "execution_count": null,
   "id": "852844a6-99a0-4cc6-8f01-3e0fdf5b7cfd",
   "metadata": {
    "id": "852844a6-99a0-4cc6-8f01-3e0fdf5b7cfd",
    "tags": []
   },
   "outputs": [],
   "source": [
    "X_train.head()"
   ]
  },
  {
   "cell_type": "code",
   "execution_count": null,
   "id": "03027a0c-544f-4819-81c4-cbc928d32226",
   "metadata": {
    "id": "03027a0c-544f-4819-81c4-cbc928d32226",
    "tags": []
   },
   "outputs": [],
   "source": [
    "y_train.head()"
   ]
  },
  {
   "cell_type": "code",
   "execution_count": null,
   "id": "0a489075-b260-4e98-881c-f891e43227ca",
   "metadata": {
    "id": "0a489075-b260-4e98-881c-f891e43227ca"
   },
   "outputs": [],
   "source": []
  },
  {
   "cell_type": "markdown",
   "id": "529722d7-ffb9-4fd5-9723-c0039e99b903",
   "metadata": {
    "id": "529722d7-ffb9-4fd5-9723-c0039e99b903"
   },
   "source": [
    "SVC will automatically use the One-vs-All strategy, so there's nothing special we need to do to handle multiple classes."
   ]
  },
  {
   "cell_type": "code",
   "execution_count": null,
   "id": "a59d82fd-d975-4c70-a368-390c84e86f54",
   "metadata": {
    "id": "a59d82fd-d975-4c70-a368-390c84e86f54",
    "tags": []
   },
   "outputs": [],
   "source": [
    "model = svm.SVC(kernel='linear', C=1000, tol=0.0001, random_state=42) # initialize the model\n",
    "..."
   ]
  },
  {
   "cell_type": "markdown",
   "id": "53f54ec0-7d8a-49e0-8252-3309fa306d0f",
   "metadata": {
    "id": "53f54ec0-7d8a-49e0-8252-3309fa306d0f"
   },
   "source": [
    "Calulate the accuracy (cross validation score):"
   ]
  },
  {
   "cell_type": "code",
   "execution_count": null,
   "id": "cb2a01f8-db95-41dd-b902-1336961a6794",
   "metadata": {
    "id": "cb2a01f8-db95-41dd-b902-1336961a6794"
   },
   "outputs": [],
   "source": [
    "from sklearn.model_selection import cross_val_score\n",
    "\n",
    "cross_val_score(...).mean()"
   ]
  },
  {
   "cell_type": "code",
   "execution_count": null,
   "id": "86fe7142-507a-4c42-b795-002e1c1bf47b",
   "metadata": {
    "id": "86fe7142-507a-4c42-b795-002e1c1bf47b"
   },
   "outputs": [],
   "source": []
  },
  {
   "cell_type": "markdown",
   "id": "60c4c092-c5d7-4410-b851-4b8e1895de21",
   "metadata": {
    "id": "60c4c092-c5d7-4410-b851-4b8e1895de21"
   },
   "source": [
    "\n",
    "Report the accuracy that you reached in task 2A without feature scaling in Moodle."
   ]
  },
  {
   "cell_type": "code",
   "execution_count": null,
   "id": "8f823f52-de0e-4d33-aad1-e28359ae53c7",
   "metadata": {
    "id": "8f823f52-de0e-4d33-aad1-e28359ae53c7"
   },
   "outputs": [],
   "source": []
  },
  {
   "cell_type": "markdown",
   "id": "43ea63a7-f8ad-41c5-b1a3-389ccc83de24",
   "metadata": {
    "id": "43ea63a7-f8ad-41c5-b1a3-389ccc83de24"
   },
   "source": [
    "**Task 2B**: Which accuracy (cross validation score) can you reach when you standarize the features before training?  \n",
    "See https://scikit-learn.org/stable/modules/generated/sklearn.preprocessing.StandardScaler.html"
   ]
  },
  {
   "cell_type": "code",
   "execution_count": null,
   "id": "53de78c0-df3c-4985-8efc-14ec466667d1",
   "metadata": {
    "id": "53de78c0-df3c-4985-8efc-14ec466667d1"
   },
   "outputs": [],
   "source": []
  },
  {
   "cell_type": "code",
   "execution_count": null,
   "id": "485c6513-4108-45cf-b82c-f3371d8f3796",
   "metadata": {
    "id": "485c6513-4108-45cf-b82c-f3371d8f3796"
   },
   "outputs": [],
   "source": [
    "cross_val_score(...).mean()"
   ]
  },
  {
   "cell_type": "markdown",
   "id": "3d627b15-3dcb-4603-9fb7-5b010f638b44",
   "metadata": {
    "id": "3d627b15-3dcb-4603-9fb7-5b010f638b44"
   },
   "source": [
    "Report the accuracy that you reached with feature standaridsation in Task 2B."
   ]
  },
  {
   "cell_type": "code",
   "execution_count": null,
   "id": "772a819d-dd9b-48e4-b6fe-f18246f3e93d",
   "metadata": {
    "id": "772a819d-dd9b-48e4-b6fe-f18246f3e93d"
   },
   "outputs": [],
   "source": []
  }
 ],
 "metadata": {
  "colab": {
   "provenance": []
  },
  "kernelspec": {
   "display_name": "Python 3 (ipykernel)",
   "language": "python",
   "name": "python3"
  },
  "language_info": {
   "codemirror_mode": {
    "name": "ipython",
    "version": 3
   },
   "file_extension": ".py",
   "mimetype": "text/x-python",
   "name": "python",
   "nbconvert_exporter": "python",
   "pygments_lexer": "ipython3",
   "version": "3.10.9"
  }
 },
 "nbformat": 4,
 "nbformat_minor": 5
}
